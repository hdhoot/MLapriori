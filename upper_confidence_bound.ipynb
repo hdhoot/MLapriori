{
  "nbformat": 4,
  "nbformat_minor": 0,
  "metadata": {
    "colab": {
      "provenance": [],
      "include_colab_link": true
    },
    "kernelspec": {
      "name": "python3",
      "display_name": "Python 3"
    }
  },
  "cells": [
    {
      "cell_type": "markdown",
      "metadata": {
        "id": "view-in-github",
        "colab_type": "text"
      },
      "source": [
        "<a href=\"https://colab.research.google.com/github/hdhoot/MLapriori/blob/main/upper_confidence_bound.ipynb\" target=\"_parent\"><img src=\"https://colab.research.google.com/assets/colab-badge.svg\" alt=\"Open In Colab\"/></a>"
      ]
    },
    {
      "cell_type": "markdown",
      "metadata": {
        "id": "QJdrJJQUv3-k"
      },
      "source": [
        "# Upper Confidence Bound (UCB)"
      ]
    },
    {
      "cell_type": "markdown",
      "metadata": {
        "id": "2XCjepjJwEv-"
      },
      "source": [
        "## Importing the libraries"
      ]
    },
    {
      "cell_type": "code",
      "source": [
        "import numpy as np\n",
        "import pandas as pd\n",
        "import matplotlib.pyplot as plt"
      ],
      "metadata": {
        "id": "gRPT_BKVhg9W"
      },
      "execution_count": 1,
      "outputs": []
    },
    {
      "cell_type": "code",
      "source": [
        "dataset=pd.read_csv('/content/Ads_CTR_Optimisation.csv')"
      ],
      "metadata": {
        "id": "cKbVevV4hzAx"
      },
      "execution_count": 2,
      "outputs": []
    },
    {
      "cell_type": "markdown",
      "metadata": {
        "id": "npqlXjaNwYTv"
      },
      "source": [
        "## Importing the dataset"
      ]
    },
    {
      "cell_type": "markdown",
      "metadata": {
        "id": "PaSbots_wfoB"
      },
      "source": [
        "## Implementing UCB"
      ]
    },
    {
      "cell_type": "code",
      "source": [
        "import math\n",
        "N=10000\n",
        "d=10\n",
        "ads_selected=[]\n",
        "no_of_selection=[0]*d\n",
        "sum_of_rewards=[0]*d\n",
        "total_selections=0\n",
        "for n in range(0,N):\n",
        "  ad=0\n",
        "  max_upper_bound=0\n",
        "  for i in range(0,d):\n",
        "    if(no_of_selection[i]>0):\n",
        "      average_reward=sum_of_rewards[i]/no_of_selection[i]\n",
        "      delta_i=math.sqrt((3/2)*math.log(n+1)/no_of_selection[i])\n",
        "      upper_bound=average_reward+delta_i\n",
        "    else:\n",
        "      upper_bound=1e400\n",
        "    if(upper_bound > max_upper_bound ):\n",
        "        max_upper_bound=upper_bound\n",
        "        ad=i\n",
        "  ads_selected.append(ad)\n",
        "  no_of_selection[ad]=no_of_selection[ad]+1\n",
        "  reward=dataset.values[n,ad]\n",
        "  sum_of_rewards[ad]=sum_of_rewards[ad]+reward\n",
        "  total_selections=total_selections+reward"
      ],
      "metadata": {
        "id": "S6Scta6hjKmr"
      },
      "execution_count": 3,
      "outputs": []
    },
    {
      "cell_type": "markdown",
      "metadata": {
        "id": "AXftWcjDwsYj"
      },
      "source": [
        "## Visualising the results"
      ]
    },
    {
      "cell_type": "code",
      "source": [
        "plt.hist(ads_selected)\n",
        "plt.title('Histogram')\n",
        "plt.xlabel('ads')\n",
        "plt.ylabel('number of times each ad selected')\n",
        "plt.show()"
      ],
      "metadata": {
        "id": "a79Ppyg5uWyN",
        "outputId": "0e9b09e6-c16a-47f6-9f42-44708b2effa7",
        "colab": {
          "base_uri": "https://localhost:8080/",
          "height": 472
        }
      },
      "execution_count": 4,
      "outputs": [
        {
          "output_type": "display_data",
          "data": {
            "text/plain": [
              "<Figure size 640x480 with 1 Axes>"
            ],
            "image/png": "[encoded data removed]"
          },
          "metadata": {}
        }
      ]
    }
  ]
}